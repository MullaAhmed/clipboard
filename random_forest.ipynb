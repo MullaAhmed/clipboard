{
 "cells": [
  {
   "cell_type": "code",
   "execution_count": 30,
   "metadata": {},
   "outputs": [
    {
     "name": "stdout",
     "output_type": "stream",
     "text": [
      "Requirement already satisfied: nltk in c:\\users\\91869\\appdata\\local\\programs\\python\\python310\\lib\\site-packages (3.8.1)\n",
      "Requirement already satisfied: click in c:\\users\\91869\\appdata\\local\\programs\\python\\python310\\lib\\site-packages (from nltk) (8.1.3)\n",
      "Requirement already satisfied: joblib in c:\\users\\91869\\appdata\\local\\programs\\python\\python310\\lib\\site-packages (from nltk) (1.2.0)\n",
      "Requirement already satisfied: regex>=2021.8.3 in c:\\users\\91869\\appdata\\local\\programs\\python\\python310\\lib\\site-packages (from nltk) (2023.3.23)\n",
      "Requirement already satisfied: tqdm in c:\\users\\91869\\appdata\\local\\programs\\python\\python310\\lib\\site-packages (from nltk) (4.65.0)\n",
      "Requirement already satisfied: colorama in c:\\users\\91869\\appdata\\local\\programs\\python\\python310\\lib\\site-packages (from click->nltk) (0.4.6)\n"
     ]
    },
    {
     "name": "stderr",
     "output_type": "stream",
     "text": [
      "WARNING: Ignoring invalid distribution -orch (c:\\users\\91869\\appdata\\local\\programs\\python\\python310\\lib\\site-packages)\n",
      "WARNING: Ignoring invalid distribution -orch (c:\\users\\91869\\appdata\\local\\programs\\python\\python310\\lib\\site-packages)\n",
      "\n",
      "[notice] A new release of pip is available: 23.3.1 -> 24.0\n",
      "[notice] To update, run: python.exe -m pip install --upgrade pip\n"
     ]
    }
   ],
   "source": [
    "!pip install nltk"
   ]
  },
  {
   "cell_type": "code",
   "execution_count": 31,
   "metadata": {},
   "outputs": [
    {
     "name": "stdout",
     "output_type": "stream",
     "text": [
      "Requirement already satisfied: scikit-learn in c:\\users\\91869\\appdata\\local\\programs\\python\\python310\\lib\\site-packages (1.2.2)\n",
      "Requirement already satisfied: numpy>=1.17.3 in c:\\users\\91869\\appdata\\local\\programs\\python\\python310\\lib\\site-packages (from scikit-learn) (1.24.2)\n",
      "Requirement already satisfied: scipy>=1.3.2 in c:\\users\\91869\\appdata\\local\\programs\\python\\python310\\lib\\site-packages (from scikit-learn) (1.10.1)\n",
      "Requirement already satisfied: joblib>=1.1.1 in c:\\users\\91869\\appdata\\local\\programs\\python\\python310\\lib\\site-packages (from scikit-learn) (1.2.0)\n",
      "Requirement already satisfied: threadpoolctl>=2.0.0 in c:\\users\\91869\\appdata\\local\\programs\\python\\python310\\lib\\site-packages (from scikit-learn) (3.1.0)\n"
     ]
    },
    {
     "name": "stderr",
     "output_type": "stream",
     "text": [
      "WARNING: Ignoring invalid distribution -orch (c:\\users\\91869\\appdata\\local\\programs\\python\\python310\\lib\\site-packages)\n",
      "WARNING: Ignoring invalid distribution -orch (c:\\users\\91869\\appdata\\local\\programs\\python\\python310\\lib\\site-packages)\n",
      "\n",
      "[notice] A new release of pip is available: 23.3.1 -> 24.0\n",
      "[notice] To update, run: python.exe -m pip install --upgrade pip\n"
     ]
    }
   ],
   "source": [
    "!pip install scikit-learn"
   ]
  },
  {
   "cell_type": "code",
   "execution_count": 1,
   "metadata": {},
   "outputs": [],
   "source": [
    "import pandas as pd\n",
    "\n",
    "df=pd.read_csv(\"final.csv\")\n",
    "df.head(2)\n",
    "\n",
    "start=0\n",
    "end=10000\n",
    "\n",
    "texts=df[\"Sentences\"].values\n",
    "labels=df[\"Labels\"].values\n"
   ]
  },
  {
   "cell_type": "code",
   "execution_count": 2,
   "metadata": {},
   "outputs": [],
   "source": [
    "# Import necessary libraries\n",
    "from sklearn.feature_extraction.text import CountVectorizer\n",
    "from sklearn.model_selection import train_test_split\n",
    "from sklearn.metrics import accuracy_score, classification_report\n",
    "from sklearn.feature_extraction.text import CountVectorizer\n",
    "from sklearn.ensemble import RandomForestClassifier, StackingClassifier\n",
    "from sklearn.linear_model import LogisticRegression\n",
    "from sklearn.naive_bayes import MultinomialNB\n",
    "from sklearn.svm import SVC\n",
    "\n"
   ]
  },
  {
   "cell_type": "code",
   "execution_count": 3,
   "metadata": {},
   "outputs": [],
   "source": [
    "\n",
    "# Convert labels to numerical values (0, 1, 2, 3)\n",
    "label_mapping = {label: idx for idx, label in enumerate(set(labels))}\n",
    "numeric_labels = [label_mapping[label] for label in labels]\n",
    "\n",
    "# Split the data into training and testing sets\n",
    "X_train, X_test, y_train, y_test = train_test_split(texts, numeric_labels, test_size=0.2, random_state=42,stratify=numeric_labels)\n",
    "\n",
    "# Create a CountVectorizer to convert text data into a bag-of-words representation\n",
    "vectorizer = CountVectorizer()\n",
    "X_train_vectorized = vectorizer.fit_transform(X_train)\n",
    "X_test_vectorized = vectorizer.transform(X_test)\n"
   ]
  },
  {
   "cell_type": "code",
   "execution_count": 4,
   "metadata": {},
   "outputs": [
    {
     "data": {
      "text/plain": [
       "dict_keys(['benefits', 'recruiting_process', 'equal_opportunity', 'about_company', 'job_functions', 'required_qualifications'])"
      ]
     },
     "execution_count": 4,
     "metadata": {},
     "output_type": "execute_result"
    }
   ],
   "source": [
    "label_mapping.keys()"
   ]
  },
  {
   "cell_type": "code",
   "execution_count": 5,
   "metadata": {},
   "outputs": [],
   "source": [
    "rf_classifier = RandomForestClassifier(n_estimators=100, random_state=42)\n",
    "logistic_regression = LogisticRegression(max_iter=1000, random_state=42)\n",
    "naive_bayes = MultinomialNB()\n",
    "svm_classifier = SVC(kernel='linear', probability=True, random_state=42)  # You can adjust the kernel and other parameters\n",
    "\n",
    "# Create a StackingClassifier with Random Forest, Logistic Regression, Naive Bayes, and SVM\n",
    "stacking_classifier = StackingClassifier(\n",
    "    estimators=[\n",
    "        ('random_forest', rf_classifier),\n",
    "        ('logistic_regression', logistic_regression),\n",
    "        ('naive_bayes', naive_bayes),\n",
    "        ('svm', svm_classifier)\n",
    "    ],\n",
    "    final_estimator=LogisticRegression(),\n",
    "    stack_method='auto',\n",
    "    n_jobs=-1\n",
    ")\n",
    "\n",
    "# Train the stacking classifier\n",
    "stacking_classifier.fit(X_train_vectorized, y_train)\n"
   ]
  },
  {
   "cell_type": "code",
   "execution_count": 37,
   "metadata": {},
   "outputs": [
    {
     "data": {
      "text/plain": [
       "numpy.ndarray"
      ]
     },
     "execution_count": 37,
     "metadata": {},
     "output_type": "execute_result"
    }
   ],
   "source": [
    "type(X_train)"
   ]
  },
  {
   "cell_type": "code",
   "execution_count": 38,
   "metadata": {},
   "outputs": [
    {
     "name": "stdout",
     "output_type": "stream",
     "text": [
      "Accuracy: 0.90\n"
     ]
    }
   ],
   "source": [
    "\n",
    "model=stacking_classifier\n",
    "# Make predictions on the test set\n",
    "predictions = model.predict(X_test_vectorized)\n",
    "\n",
    "# Evaluate the model\n",
    "accuracy = accuracy_score(y_test, predictions)\n",
    "print(f\"Accuracy: {accuracy:.2f}\")\n",
    "\n",
    "\n"
   ]
  },
  {
   "cell_type": "code",
   "execution_count": 39,
   "metadata": {},
   "outputs": [
    {
     "data": {
      "text/plain": [
       "numpy.ndarray"
      ]
     },
     "execution_count": 39,
     "metadata": {},
     "output_type": "execute_result"
    }
   ],
   "source": [
    "type(predictions)"
   ]
  },
  {
   "cell_type": "code",
   "execution_count": 40,
   "metadata": {},
   "outputs": [
    {
     "name": "stdout",
     "output_type": "stream",
     "text": [
      "Classification Report:\n",
      "                         precision    recall  f1-score   support\n",
      "\n",
      "          about_company       0.91      1.00      0.95        10\n",
      "          job_functions       0.85      0.90      0.88        39\n",
      "     recruiting_process       0.86      0.92      0.89        13\n",
      "required_qualifications       0.93      0.87      0.90        46\n",
      "               benefits       0.93      0.88      0.90        16\n",
      "\n",
      "               accuracy                           0.90       124\n",
      "              macro avg       0.90      0.91      0.90       124\n",
      "           weighted avg       0.90      0.90      0.90       124\n",
      "\n"
     ]
    }
   ],
   "source": [
    "# Display classification report\n",
    "print(\"Classification Report:\")\n",
    "print(classification_report(y_test, predictions, target_names=label_mapping.keys()))"
   ]
  },
  {
   "cell_type": "code",
   "execution_count": 41,
   "metadata": {},
   "outputs": [
    {
     "name": "stdout",
     "output_type": "stream",
     "text": [
      "Model saved to text_classification_model.pkl\n"
     ]
    }
   ],
   "source": [
    "import pickle\n",
    "model_filename = \"text_classification_model.pkl\"\n",
    "with open(model_filename, 'wb') as model_file:\n",
    "    pickle.dump(stacking_classifier, model_file)\n",
    "\n",
    "print(f\"Model saved to {model_filename}\")\n",
    "\n",
    "# Load the model back using pickle\n",
    "with open(model_filename, 'rb') as model_file:\n",
    "    model = pickle.load(model_file)"
   ]
  },
  {
   "cell_type": "code",
   "execution_count": 42,
   "metadata": {},
   "outputs": [],
   "source": [
    "jd=\"Clariant is a focused and innovative specialty chemical company based near Basel in Switzerland. Last year the company recorded CHF 6.6 billion in sales harnessing the talents of its 18 000 employees across 53 countries. Clariant’s portfolio is optimized for future growth, with a focus in four business areas: Care Chemicals, Catalysts, Natural Resources, and Plastics & Coatings. We believe that our growth is all about our customers and their success. Investment in innovation capabilities and developing inspiring environments for courageous and determined minds are therefore key to reaching our goal. Join us and help create sustainable value through chemistry for customers all over the globe. The Research Engineer is responsible, as a member of the project team, for the evaluation of catalytic materials to develop new or improved commercial catalyst products. Responsibilities Operate, maintain, and troubleshoot catalyst test units and analytical tools used to discover new catalysts and processes that deliver value to SC businesses . Specifically, evaluate catalysts in high-throughput and conventional fixed bed and batch reactors using analytical hardware such as gas and liquid chromatography. Plan experiments in collaboration with the technical project team. Conduct equipment operational programming. Develop and implement GC methods and maintain equipment. Characterize catalysts using BET, XRD, LS, SEM, etc. and interpret resulting data. May prepare or assist in preparing catalytic materials. Work-up, analyze, and present data using appropriate specialty software packages such as DOE, visualization, and statistical analysis programs. Communicate results internally via reports, presentations, and informally. Generate IP and assist with patent preparation. Operate a safe laboratory by working closely with the site safety committee and coworkers Supervisory Responsibilities: • May direct technical/research assistants when applicable. Requirements BS in Chemical Engineering, Materials Science, or a related field with 3-8 years of industrial experience in heterogeneous catalysis, or (PHD or MS) in Chemical Engineering, Materials Science, or a related field with 1-5 years of industrial experience in heterogeneous catalysis Skilled in the evaluation of solid catalysts in fixed bed and batch reactor systems. Knowledgeable in the use of automated laboratory hardware and software , and in data analysis and reduction software and techniques. Experience with analytical methods such as XRD, SEM, TEM, XPS, BET, IR, TPD\\TPR, HPLC, GC , MS, etc.; including method development. Record of success (commercialized products, patents, publications) conducting team-oriented catalyst research. Senior technical team member with responsibilities in one or more projects; ability to execute aspects of multiple projects simultaneously. Serve as a mentor and technical resource to other technical staff. Superior creativity and imagination with respect to new products, processes, procedures Strong communication, interpersonal, and teamwork skills with extended project teams on HT projects. Expertise in high throughput R&D methods. Optionally experienced in catalyst synthesis Learn more about Clariant Follow us on Facebook , Twitter and LinkedIn Our commitment to people - download our Employment Standards Brochure\"\n"
   ]
  },
  {
   "cell_type": "code",
   "execution_count": 43,
   "metadata": {},
   "outputs": [],
   "source": [
    "import re\n",
    "def tokenize_paragraph(paragraph):\n",
    "        sentences = re.split(r'(?<!\\w\\.\\w.)(?<![A-Z][a-z]\\.)(?<=\\.|\\?)\\s', paragraph)\n",
    "        return sentences\n",
    "\n"
   ]
  },
  {
   "cell_type": "code",
   "execution_count": 44,
   "metadata": {},
   "outputs": [
    {
     "name": "stdout",
     "output_type": "stream",
     "text": [
      "{\n",
      "  \"about_company\": [\n",
      "    \"Clariant is a focused and innovative specialty chemical company based near Basel in Switzerland.\",\n",
      "    \"Last year the company recorded CHF 6.6 billion in sales harnessing the talents of its 18 000 employees across 53 countries.\",\n",
      "    \"Clariant\\u2019s portfolio is optimized for future growth, with a focus in four business areas: Care Chemicals, Catalysts, Natural Resources, and Plastics & Coatings.\",\n",
      "    \"We believe that our growth is all about our customers and their success.\",\n",
      "    \"Investment in innovation capabilities and developing inspiring environments for courageous and determined minds are therefore key to reaching our goal.\",\n",
      "    \"The Research Engineer is responsible, as a member of the project team, for the evaluation of catalytic materials to develop new or improved commercial catalyst products.\",\n",
      "    \"Responsibilities Operate, maintain, and troubleshoot catalyst test units and analytical tools used to discover new catalysts and processes that deliver value to SC businesses .\"\n",
      "  ],\n",
      "  \"job_functions\": [\n",
      "    \"Join us and help create sustainable value through chemistry for customers all over the globe.\",\n",
      "    \"Specifically, evaluate catalysts in high-throughput and conventional fixed bed and batch reactors using analytical hardware such as gas and liquid chromatography.\",\n",
      "    \"Plan experiments in collaboration with the technical project team.\",\n",
      "    \"Conduct equipment operational programming.\",\n",
      "    \"Develop and implement GC methods and maintain equipment.\",\n",
      "    \"Characterize catalysts using BET, XRD, LS, SEM, etc.\",\n",
      "    \"and interpret resulting data.\",\n",
      "    \"May prepare or assist in preparing catalytic materials.\",\n",
      "    \"Work-up, analyze, and present data using appropriate specialty software packages such as DOE, visualization, and statistical analysis programs.\",\n",
      "    \"Communicate results internally via reports, presentations, and informally.\",\n",
      "    \"Generate IP and assist with patent preparation.\",\n",
      "    \"Operate a safe laboratory by working closely with the site safety committee and coworkers Supervisory Responsibilities: \\u2022 May direct technical/research assistants when applicable.\",\n",
      "    \"Record of success (commercialized products, patents, publications) conducting team-oriented catalyst research.\",\n",
      "    \"Serve as a mentor and technical resource to other technical staff.\",\n",
      "    \"Optionally experienced in catalyst synthesis Learn more about Clariant Follow us on Facebook , Twitter and LinkedIn Our commitment to people - download our Employment Standards Brochure\"\n",
      "  ],\n",
      "  \"recruiting_process\": [],\n",
      "  \"required_qualifications\": [\n",
      "    \"Requirements BS in Chemical Engineering, Materials Science, or a related field with 3-8 years of industrial experience in heterogeneous catalysis, or (PHD or MS) in Chemical Engineering, Materials Science, or a related field with 1-5 years of industrial experience in heterogeneous catalysis Skilled in the evaluation of solid catalysts in fixed bed and batch reactor systems.\",\n",
      "    \"Knowledgeable in the use of automated laboratory hardware and software , and in data analysis and reduction software and techniques.\",\n",
      "    \"Experience with analytical methods such as XRD, SEM, TEM, XPS, BET, IR, TPD\\\\TPR, HPLC, GC , MS, etc.\",\n",
      "    \"Senior technical team member with responsibilities in one or more projects; ability to execute aspects of multiple projects simultaneously.\",\n",
      "    \"Superior creativity and imagination with respect to new products, processes, procedures Strong communication, interpersonal, and teamwork skills with extended project teams on HT projects.\",\n",
      "    \"Expertise in high throughput R&D methods.\"\n",
      "  ],\n",
      "  \"benefits\": [\n",
      "    \"; including method development.\"\n",
      "  ],\n",
      "  \"extra\": []\n",
      "}\n"
     ]
    }
   ],
   "source": [
    "import json\n",
    "import nltk\n",
    "from nltk.tokenize import sent_tokenize\n",
    "\n",
    "\n",
    "def predict(paragraph, model, vectorizer, label_mapping, confidence_threshold=0.3, extra_label='extra'):\n",
    "   \n",
    "    sentences = sent_tokenize(paragraph)\n",
    "    sentences_vectorized = vectorizer.transform(sentences)    \n",
    "    sentence_predictions_proba = model.predict_proba(sentences_vectorized)\n",
    "\n",
    "\n",
    "    labels=list(label_mapping.keys())\n",
    "    labels.append('extra')\n",
    "\n",
    "    result_dict = {label: [] for label in labels}\n",
    "    \n",
    "   \n",
    "    for sentence, label, proba in zip(sentences, model.predict(sentences_vectorized), sentence_predictions_proba.max(axis=1)):\n",
    "        if proba >= confidence_threshold:\n",
    "            result_dict[list(label_mapping.keys())[label]].append(sentence)\n",
    "        else:\n",
    "            result_dict[extra_label].append(sentence)\n",
    "\n",
    "    result_json = json.dumps(result_dict, indent=2)\n",
    "\n",
    "    return result_json\n",
    "\n",
    "\n",
    "# Download NLTK sentence tokenizer data (run once)\n",
    "# nltk.download('punkt')\n",
    "\n",
    "result = predict(jd, model, vectorizer, label_mapping)\n",
    "print(result)\n"
   ]
  },
  {
   "cell_type": "code",
   "execution_count": null,
   "metadata": {},
   "outputs": [],
   "source": []
  },
  {
   "cell_type": "code",
   "execution_count": null,
   "metadata": {},
   "outputs": [],
   "source": []
  }
 ],
 "metadata": {
  "kernelspec": {
   "display_name": "Python 3",
   "language": "python",
   "name": "python3"
  },
  "language_info": {
   "codemirror_mode": {
    "name": "ipython",
    "version": 3
   },
   "file_extension": ".py",
   "mimetype": "text/x-python",
   "name": "python",
   "nbconvert_exporter": "python",
   "pygments_lexer": "ipython3",
   "version": "3.10.9"
  }
 },
 "nbformat": 4,
 "nbformat_minor": 2
}
