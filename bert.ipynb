{
 "cells": [
  {
   "cell_type": "code",
   "execution_count": 5,
   "metadata": {},
   "outputs": [],
   "source": [
    "# Import necessary libraries\n",
    "from sklearn.feature_extraction.text import CountVectorizer\n",
    "import torch\n",
    "from torch.utils.data import DataLoader, TensorDataset\n",
    "from transformers import BertTokenizer, BertForSequenceClassification, AdamW\n",
    "from sklearn.model_selection import train_test_split\n",
    "from sklearn.metrics import accuracy_score, classification_report\n",
    "import pandas as pd\n",
    "import numpy as np"
   ]
  },
  {
   "cell_type": "code",
   "execution_count": 15,
   "metadata": {},
   "outputs": [
    {
     "data": {
      "text/html": [
       "<div>\n",
       "<style scoped>\n",
       "    .dataframe tbody tr th:only-of-type {\n",
       "        vertical-align: middle;\n",
       "    }\n",
       "\n",
       "    .dataframe tbody tr th {\n",
       "        vertical-align: top;\n",
       "    }\n",
       "\n",
       "    .dataframe thead th {\n",
       "        text-align: right;\n",
       "    }\n",
       "</style>\n",
       "<table border=\"1\" class=\"dataframe\">\n",
       "  <thead>\n",
       "    <tr style=\"text-align: right;\">\n",
       "      <th></th>\n",
       "      <th>Sentences</th>\n",
       "      <th>Labels</th>\n",
       "    </tr>\n",
       "  </thead>\n",
       "  <tbody>\n",
       "    <tr>\n",
       "      <th>0</th>\n",
       "      <td>The Inside Services Sales Manager will work on...</td>\n",
       "      <td>job_functions</td>\n",
       "    </tr>\n",
       "    <tr>\n",
       "      <th>1</th>\n",
       "      <td>The candidate will possess knowledge of the so...</td>\n",
       "      <td>required_qualifications</td>\n",
       "    </tr>\n",
       "  </tbody>\n",
       "</table>\n",
       "</div>"
      ],
      "text/plain": [
       "                                           Sentences                   Labels\n",
       "0  The Inside Services Sales Manager will work on...            job_functions\n",
       "1  The candidate will possess knowledge of the so...  required_qualifications"
      ]
     },
     "execution_count": 15,
     "metadata": {},
     "output_type": "execute_result"
    }
   ],
   "source": [
    "df=pd.read_csv(\"final.csv\")\n",
    "df.head(2)\n"
   ]
  },
  {
   "cell_type": "code",
   "execution_count": 16,
   "metadata": {},
   "outputs": [
    {
     "name": "stdout",
     "output_type": "stream",
     "text": [
      "Number of unique labels: 6\n",
      "Frequency of each label:\n",
      "job_functions              46392\n",
      "required_qualifications    40209\n",
      "about_company              17185\n",
      "benefits                    9408\n",
      "recruiting_process          6761\n",
      "equal_opportunity           3520\n",
      "Name: Labels, dtype: int64\n"
     ]
    }
   ],
   "source": [
    "unique_labels_count = df['Labels'].nunique()\n",
    "\n",
    "# Alternatively, to see the count of each unique label\n",
    "unique_labels_frequency = df['Labels'].value_counts()\n",
    "\n",
    "print(f\"Number of unique labels: {unique_labels_count}\")\n",
    "print(\"Frequency of each label:\")\n",
    "print(unique_labels_frequency)"
   ]
  },
  {
   "cell_type": "code",
   "execution_count": 17,
   "metadata": {},
   "outputs": [],
   "source": [
    "start=0\n",
    "texts=df[\"Sentences\"].values[:100]\n",
    "labels=df[\"Labels\"].values[:100]"
   ]
  },
  {
   "cell_type": "code",
   "execution_count": 18,
   "metadata": {},
   "outputs": [],
   "source": [
    "\n",
    "# Convert labels to numerical values (0, 1, 2, 3)\n",
    "label_mapping = {label: idx for idx, label in enumerate(set(labels))}\n",
    "numeric_labels = [label_mapping[label] for label in labels]\n",
    "\n",
    "# Split the data into training and testing sets\n",
    "X_train, X_test, y_train, y_test = train_test_split(texts, numeric_labels, test_size=0.2, random_state=42,stratify=numeric_labels)\n",
    "\n",
    "# Create a CountVectorizer to convert text data into a bag-of-words representation\n",
    "vectorizer = CountVectorizer()\n",
    "X_train_vectorized = vectorizer.fit_transform(X_train)\n",
    "X_test_vectorized = vectorizer.transform(X_test)\n"
   ]
  },
  {
   "cell_type": "code",
   "execution_count": 19,
   "metadata": {},
   "outputs": [
    {
     "data": {
      "text/plain": [
       "dict_keys(['job_functions', 'about_company', 'equal_opportunity', 'required_qualifications', 'benefits'])"
      ]
     },
     "execution_count": 19,
     "metadata": {},
     "output_type": "execute_result"
    }
   ],
   "source": [
    "label_mapping.keys()"
   ]
  },
  {
   "cell_type": "code",
   "execution_count": 25,
   "metadata": {},
   "outputs": [
    {
     "name": "stderr",
     "output_type": "stream",
     "text": [
      "Some weights of the model checkpoint at bert-base-uncased were not used when initializing BertForSequenceClassification: ['cls.seq_relationship.bias', 'cls.seq_relationship.weight', 'cls.predictions.transform.dense.bias', 'cls.predictions.transform.LayerNorm.bias', 'cls.predictions.transform.dense.weight', 'cls.predictions.bias', 'cls.predictions.transform.LayerNorm.weight']\n",
      "- This IS expected if you are initializing BertForSequenceClassification from the checkpoint of a model trained on another task or with another architecture (e.g. initializing a BertForSequenceClassification model from a BertForPreTraining model).\n",
      "- This IS NOT expected if you are initializing BertForSequenceClassification from the checkpoint of a model that you expect to be exactly identical (initializing a BertForSequenceClassification model from a BertForSequenceClassification model).\n",
      "Some weights of BertForSequenceClassification were not initialized from the model checkpoint at bert-base-uncased and are newly initialized: ['classifier.weight', 'classifier.bias']\n",
      "You should probably TRAIN this model on a down-stream task to be able to use it for predictions and inference.\n",
      "c:\\Users\\91869\\AppData\\Local\\Programs\\Python\\Python310\\lib\\site-packages\\transformers\\optimization.py:407: FutureWarning: This implementation of AdamW is deprecated and will be removed in a future version. Use the PyTorch implementation torch.optim.AdamW instead, or set `no_deprecation_warning=True` to disable this warning\n",
      "  warnings.warn(\n"
     ]
    }
   ],
   "source": [
    "# Load pre-trained BERT model and tokenizer\n",
    "model_name = 'bert-base-uncased'\n",
    "tokenizer = BertTokenizer.from_pretrained(model_name)\n",
    "model = BertForSequenceClassification.from_pretrained(model_name, num_labels=len(label_mapping))\n",
    "\n",
    "# Tokenize and encode the training and testing data\n",
    "X_train_tokens = tokenizer(list(X_train), padding=True, truncation=True, return_tensors=\"pt\")\n",
    "X_test_tokens = tokenizer(list(X_test), padding=True, truncation=True, return_tensors=\"pt\")\n",
    "\n",
    "# Convert labels to PyTorch tensors\n",
    "y_train_tensor = torch.tensor(y_train)\n",
    "y_test_tensor = torch.tensor(y_test)\n",
    "\n",
    "# Create DataLoader for training and testing data\n",
    "train_dataset = TensorDataset(X_train_tokens.input_ids, X_train_tokens.attention_mask, y_train_tensor)\n",
    "test_dataset = TensorDataset(X_test_tokens.input_ids, X_test_tokens.attention_mask, y_test_tensor)\n",
    "\n",
    "train_dataloader = DataLoader(train_dataset, batch_size=4, shuffle=True)\n",
    "test_dataloader = DataLoader(test_dataset, batch_size=4, shuffle=False)\n",
    "\n",
    "# Set up GPU if available\n",
    "# device = torch.device(\"cuda\" if torch.cuda.is_available() else \"cpu\")\n",
    "# model.to(device)\n",
    "\n",
    "# Set up optimizer and training parameters\n",
    "optimizer = AdamW(model.parameters(), lr=2e-5)\n"
   ]
  },
  {
   "cell_type": "code",
   "execution_count": 46,
   "metadata": {},
   "outputs": [
    {
     "data": {
      "text/plain": [
       "device(type='cuda')"
      ]
     },
     "execution_count": 46,
     "metadata": {},
     "output_type": "execute_result"
    }
   ],
   "source": [
    "device"
   ]
  },
  {
   "cell_type": "code",
   "execution_count": 47,
   "metadata": {},
   "outputs": [],
   "source": [
    "# Train the model\n",
    "num_epochs = 10\n",
    "for epoch in range(num_epochs):\n",
    "    model.train()\n",
    "    for batch in train_dataloader:\n",
    "        input_ids, attention_mask, labels = batch\n",
    "        input_ids, attention_mask, labels = input_ids.to(device), attention_mask.to(device), labels.to(device)\n",
    "        \n",
    "        optimizer.zero_grad()\n",
    "        outputs = model(input_ids, attention_mask=attention_mask, labels=labels)\n",
    "        loss = outputs.loss\n",
    "        loss.backward()\n",
    "        optimizer.step()"
   ]
  },
  {
   "cell_type": "code",
   "execution_count": 21,
   "metadata": {},
   "outputs": [],
   "source": [
    "# Evaluation function\n",
    "device='cpu'\n",
    "def evaluate_model(model, dataloader):\n",
    "    model.eval()  # Set model to evaluation mode\n",
    "    predictions = []\n",
    "    true_labels = []\n",
    "\n",
    "    with torch.no_grad():\n",
    "        for batch in dataloader:\n",
    "            input_ids, attention_mask, labels = batch\n",
    "            input_ids = input_ids.to(device)\n",
    "            attention_mask = attention_mask.to(device)\n",
    "            labels = labels.to(device)\n",
    "\n",
    "            outputs = model(input_ids, attention_mask=attention_mask)\n",
    "            logits = outputs.logits\n",
    "\n",
    "            # Move logits and labels to CPU if necessary\n",
    "            logits = logits.detach().cpu().numpy()\n",
    "            label_ids = labels.to('cpu').numpy()\n",
    "\n",
    "            predictions.extend(np.argmax(logits, axis=1).flatten())\n",
    "            true_labels.extend(label_ids.flatten())\n",
    "\n",
    "    return predictions, true_labels\n"
   ]
  },
  {
   "cell_type": "code",
   "execution_count": 22,
   "metadata": {},
   "outputs": [
    {
     "name": "stdout",
     "output_type": "stream",
     "text": [
      "Accuracy: 0.2\n",
      "Classification Report:\n",
      "                         precision    recall  f1-score   support\n",
      "\n",
      "          job_functions       0.00      0.00      0.00        12\n",
      "          about_company       0.00      0.00      0.00         1\n",
      "      equal_opportunity       0.00      0.00      0.00         1\n",
      "required_qualifications       0.20      1.00      0.33         4\n",
      "               benefits       0.00      0.00      0.00         2\n",
      "\n",
      "               accuracy                           0.20        20\n",
      "              macro avg       0.04      0.20      0.07        20\n",
      "           weighted avg       0.04      0.20      0.07        20\n",
      "\n"
     ]
    },
    {
     "name": "stderr",
     "output_type": "stream",
     "text": [
      "c:\\Users\\91869\\AppData\\Local\\Programs\\Python\\Python310\\lib\\site-packages\\sklearn\\metrics\\_classification.py:1344: UndefinedMetricWarning: Precision and F-score are ill-defined and being set to 0.0 in labels with no predicted samples. Use `zero_division` parameter to control this behavior.\n",
      "  _warn_prf(average, modifier, msg_start, len(result))\n",
      "c:\\Users\\91869\\AppData\\Local\\Programs\\Python\\Python310\\lib\\site-packages\\sklearn\\metrics\\_classification.py:1344: UndefinedMetricWarning: Precision and F-score are ill-defined and being set to 0.0 in labels with no predicted samples. Use `zero_division` parameter to control this behavior.\n",
      "  _warn_prf(average, modifier, msg_start, len(result))\n",
      "c:\\Users\\91869\\AppData\\Local\\Programs\\Python\\Python310\\lib\\site-packages\\sklearn\\metrics\\_classification.py:1344: UndefinedMetricWarning: Precision and F-score are ill-defined and being set to 0.0 in labels with no predicted samples. Use `zero_division` parameter to control this behavior.\n",
      "  _warn_prf(average, modifier, msg_start, len(result))\n"
     ]
    }
   ],
   "source": [
    "\n",
    "# Perform prediction on the test dataset\n",
    "test_predictions, test_true_labels = evaluate_model(model, test_dataloader)\n",
    "\n",
    "# Calculate accuracy\n",
    "accuracy = accuracy_score(test_true_labels, test_predictions)\n",
    "print(\"Accuracy:\", accuracy)\n",
    "\n",
    "\n",
    "print(\"Classification Report:\")\n",
    "print(classification_report(test_true_labels, test_predictions, target_names=label_mapping.keys()))"
   ]
  },
  {
   "cell_type": "code",
   "execution_count": 23,
   "metadata": {},
   "outputs": [],
   "source": [
    "import json\n",
    "import nltk\n",
    "from nltk.tokenize import sent_tokenize\n",
    "import torch\n",
    "\n",
    "def predict(paragraph, model, tokenizer, label_mapping, confidence_threshold=0.3, extra_label='extra'):\n",
    "    sentences = sent_tokenize(paragraph)\n",
    "    result_dict = {label: [] for label in label_mapping.keys()}\n",
    "    result_dict[extra_label] = []\n",
    "\n",
    "    for sentence in sentences:\n",
    "        encoded_sentence = tokenizer(sentence, padding=True, truncation=True, return_tensors=\"pt\")\n",
    "        input_ids = encoded_sentence.input_ids.to(device)\n",
    "        attention_mask = encoded_sentence.attention_mask.to(device)\n",
    "\n",
    "        with torch.no_grad():\n",
    "            outputs = model(input_ids, attention_mask=attention_mask)\n",
    "            logits = outputs.logits\n",
    "            probabilities = torch.softmax(logits, dim=1)\n",
    "            predicted_label_index = torch.argmax(probabilities, dim=1).item()\n",
    "            predicted_label = list(label_mapping.keys())[predicted_label_index]\n",
    "            confidence_score = probabilities[0][predicted_label_index].item()\n",
    "\n",
    "            if confidence_score >= confidence_threshold:\n",
    "                result_dict[predicted_label].append(sentence)\n",
    "            else:\n",
    "                result_dict[extra_label].append(sentence)\n",
    "\n",
    "    result_json = json.dumps(result_dict, indent=2)\n",
    "    return result_json\n"
   ]
  },
  {
   "cell_type": "code",
   "execution_count": 26,
   "metadata": {},
   "outputs": [
    {
     "name": "stderr",
     "output_type": "stream",
     "text": [
      "Some weights of the model checkpoint at bert-base-uncased were not used when initializing BertForSequenceClassification: ['cls.seq_relationship.bias', 'cls.seq_relationship.weight', 'cls.predictions.transform.dense.bias', 'cls.predictions.transform.LayerNorm.bias', 'cls.predictions.transform.dense.weight', 'cls.predictions.bias', 'cls.predictions.transform.LayerNorm.weight']\n",
      "- This IS expected if you are initializing BertForSequenceClassification from the checkpoint of a model trained on another task or with another architecture (e.g. initializing a BertForSequenceClassification model from a BertForPreTraining model).\n",
      "- This IS NOT expected if you are initializing BertForSequenceClassification from the checkpoint of a model that you expect to be exactly identical (initializing a BertForSequenceClassification model from a BertForSequenceClassification model).\n",
      "Some weights of BertForSequenceClassification were not initialized from the model checkpoint at bert-base-uncased and are newly initialized: ['classifier.weight', 'classifier.bias']\n",
      "You should probably TRAIN this model on a down-stream task to be able to use it for predictions and inference.\n"
     ]
    },
    {
     "data": {
      "text/plain": [
       "BertForSequenceClassification(\n",
       "  (bert): BertModel(\n",
       "    (embeddings): BertEmbeddings(\n",
       "      (word_embeddings): Embedding(30522, 768, padding_idx=0)\n",
       "      (position_embeddings): Embedding(512, 768)\n",
       "      (token_type_embeddings): Embedding(2, 768)\n",
       "      (LayerNorm): LayerNorm((768,), eps=1e-12, elementwise_affine=True)\n",
       "      (dropout): Dropout(p=0.1, inplace=False)\n",
       "    )\n",
       "    (encoder): BertEncoder(\n",
       "      (layer): ModuleList(\n",
       "        (0-11): 12 x BertLayer(\n",
       "          (attention): BertAttention(\n",
       "            (self): BertSelfAttention(\n",
       "              (query): Linear(in_features=768, out_features=768, bias=True)\n",
       "              (key): Linear(in_features=768, out_features=768, bias=True)\n",
       "              (value): Linear(in_features=768, out_features=768, bias=True)\n",
       "              (dropout): Dropout(p=0.1, inplace=False)\n",
       "            )\n",
       "            (output): BertSelfOutput(\n",
       "              (dense): Linear(in_features=768, out_features=768, bias=True)\n",
       "              (LayerNorm): LayerNorm((768,), eps=1e-12, elementwise_affine=True)\n",
       "              (dropout): Dropout(p=0.1, inplace=False)\n",
       "            )\n",
       "          )\n",
       "          (intermediate): BertIntermediate(\n",
       "            (dense): Linear(in_features=768, out_features=3072, bias=True)\n",
       "            (intermediate_act_fn): GELUActivation()\n",
       "          )\n",
       "          (output): BertOutput(\n",
       "            (dense): Linear(in_features=3072, out_features=768, bias=True)\n",
       "            (LayerNorm): LayerNorm((768,), eps=1e-12, elementwise_affine=True)\n",
       "            (dropout): Dropout(p=0.1, inplace=False)\n",
       "          )\n",
       "        )\n",
       "      )\n",
       "    )\n",
       "    (pooler): BertPooler(\n",
       "      (dense): Linear(in_features=768, out_features=768, bias=True)\n",
       "      (activation): Tanh()\n",
       "    )\n",
       "  )\n",
       "  (dropout): Dropout(p=0.1, inplace=False)\n",
       "  (classifier): Linear(in_features=768, out_features=5, bias=True)\n",
       ")"
      ]
     },
     "execution_count": 26,
     "metadata": {},
     "output_type": "execute_result"
    }
   ],
   "source": [
    "# Save the model\n",
    "# torch.save(model.state_dict(), 'bert_model.pth')\n",
    "\n",
    "device='cpu'\n",
    "# Load the model\n",
    "loaded_model = BertForSequenceClassification.from_pretrained(model_name, num_labels=len(label_mapping))\n",
    "loaded_model.load_state_dict(torch.load('bert_model.pth'))\n",
    "loaded_model.eval()  # Make sure to set the model to evaluation mode after loading\n",
    "loaded_model.to(device)\n"
   ]
  },
  {
   "cell_type": "code",
   "execution_count": 27,
   "metadata": {},
   "outputs": [
    {
     "name": "stdout",
     "output_type": "stream",
     "text": [
      "Accuracy: 0.35\n",
      "Classification Report:\n",
      "                         precision    recall  f1-score   support\n",
      "\n",
      "          job_functions       0.56      0.42      0.48        12\n",
      "          about_company       0.00      0.00      0.00         1\n",
      "      equal_opportunity       0.00      0.00      0.00         1\n",
      "required_qualifications       0.67      0.50      0.57         4\n",
      "               benefits       0.00      0.00      0.00         2\n",
      "\n",
      "               accuracy                           0.35        20\n",
      "              macro avg       0.24      0.18      0.21        20\n",
      "           weighted avg       0.47      0.35      0.40        20\n",
      "\n"
     ]
    },
    {
     "name": "stderr",
     "output_type": "stream",
     "text": [
      "c:\\Users\\91869\\AppData\\Local\\Programs\\Python\\Python310\\lib\\site-packages\\sklearn\\metrics\\_classification.py:1344: UndefinedMetricWarning: Precision and F-score are ill-defined and being set to 0.0 in labels with no predicted samples. Use `zero_division` parameter to control this behavior.\n",
      "  _warn_prf(average, modifier, msg_start, len(result))\n",
      "c:\\Users\\91869\\AppData\\Local\\Programs\\Python\\Python310\\lib\\site-packages\\sklearn\\metrics\\_classification.py:1344: UndefinedMetricWarning: Precision and F-score are ill-defined and being set to 0.0 in labels with no predicted samples. Use `zero_division` parameter to control this behavior.\n",
      "  _warn_prf(average, modifier, msg_start, len(result))\n",
      "c:\\Users\\91869\\AppData\\Local\\Programs\\Python\\Python310\\lib\\site-packages\\sklearn\\metrics\\_classification.py:1344: UndefinedMetricWarning: Precision and F-score are ill-defined and being set to 0.0 in labels with no predicted samples. Use `zero_division` parameter to control this behavior.\n",
      "  _warn_prf(average, modifier, msg_start, len(result))\n"
     ]
    }
   ],
   "source": [
    "\n",
    "# Perform prediction on the test dataset\n",
    "test_predictions, test_true_labels = evaluate_model(loaded_model, test_dataloader)\n",
    "\n",
    "# Calculate accuracy\n",
    "accuracy = accuracy_score(test_true_labels, test_predictions)\n",
    "print(\"Accuracy:\", accuracy)\n",
    "\n",
    "\n",
    "print(\"Classification Report:\")\n",
    "print(classification_report(test_true_labels, test_predictions, target_names=label_mapping.keys()))"
   ]
  },
  {
   "cell_type": "code",
   "execution_count": 29,
   "metadata": {},
   "outputs": [
    {
     "name": "stdout",
     "output_type": "stream",
     "text": [
      "1.791938304901123\n",
      "{\n",
      "  \"job_functions\": [\n",
      "    \"Primary Duties and Responsibilities: The Part-Time Associate reports to the Store Manager and performs management-assigned duties, which may include but may not be limited to receiving inventory, stocking and maintaining a store section, operating a cash register, carry-out services and store cleaning.\",\n",
      "    \"Specific duties include, but are not limited to: Maintain a store section as assigned and may order, receive and stock merchandise using proper equipment, assures proper pricing on merchandise, checks product date codes to validate proper rotation, stocks shelves, end displays, floor stacks, displays and refrigerated/frozen cases.\",\n",
      "    \"Operates a cash register, receives payment from customers, and makes change or processes check/charge/debit transactions.\",\n",
      "    \"Offers friendly, knowledgeable, efficient and courteous assistance to customers by providing them with current store and product information.\",\n",
      "    \"The employee must regularly lift and/or move up to 25 pounds, frequently lift and/or move up to 45 pounds, and occasionally lift and/or move up to 60 pounds.\"\n",
      "  ],\n",
      "  \"about_company\": [\n",
      "    \"May prepare perishable products for sale.\",\n",
      "    \"Sets up advertising/promotional displays.\",\n",
      "    \"Reviews invoices/bills for accuracy.\",\n",
      "    \"Cleans and maintains sanitation standards in all interior and exterior areas of store and parking lot as directed by store management.\",\n",
      "    \"Processes cash and/or credit refunds, when approved by management.\",\n",
      "    \"Verifies customer eligibility when selling alcoholic beverages.\",\n",
      "    \"When requested, loads customer purchases by assisting customers to their vehicles.\",\n",
      "    \"Performs basic bookkeeping duties.\",\n",
      "    \"Records lost/damaged goods and store supplies using appropriate tools.\"\n",
      "  ],\n",
      "  \"equal_opportunity\": [],\n",
      "  \"required_qualifications\": [\n",
      "    \"Candidates must possess the following skills: Ability to read and write English, interact with general public and co-workers.\",\n",
      "    \"Ability to read and comprehend simple instructions, product labels, product pricing codes, shelf tags, short correspondence, and memos.\",\n",
      "    \"Ability to write simple correspondence.\",\n",
      "    \"Ability to effectively present information in one-on-one and small group situations to customers, clients, and other employees of the organization.\",\n",
      "    \"Ability to apply common sense understanding to carry out detailed but uninvolved written or oral instructions.\",\n",
      "    \"Basic PC/Outlook skills preferred.\",\n",
      "    \"Required Qualifications: Retail Management Certificate is desirable.\"\n",
      "  ],\n",
      "  \"benefits\": [\n",
      "    \"Our company provides equal employment opportunities (EEO) to all employees and applicants for employment without regard to race, color, religion, sex, national origin, age, disability or genetics.\"\n",
      "  ],\n",
      "  \"extra\": []\n",
      "}\n"
     ]
    }
   ],
   "source": [
    "from time import time\n",
    "start = time()\n",
    "paragraph = \"Primary Duties and Responsibilities: The Part-Time Associate reports to the Store Manager and performs management-assigned duties, which may include but may not be limited to receiving inventory, stocking and maintaining a store section, operating a cash register, carry-out services and store cleaning. Specific duties include, but are not limited to: Maintain a store section as assigned and may order, receive and stock merchandise using proper equipment, assures proper pricing on merchandise, checks product date codes to validate proper rotation, stocks shelves, end displays, floor stacks, displays and refrigerated/frozen cases. May prepare perishable products for sale. Sets up advertising/promotional displays. Reviews invoices/bills for accuracy. Cleans and maintains sanitation standards in all interior and exterior areas of store and parking lot as directed by store management. Operates a cash register, receives payment from customers, and makes change or processes check/charge/debit transactions. Processes cash and/or credit refunds, when approved by management. Verifies customer eligibility when selling alcoholic beverages. Offers friendly, knowledgeable, efficient and courteous assistance to customers by providing them with current store and product information. When requested, loads customer purchases by assisting customers to their vehicles. Performs basic bookkeeping duties. Records lost/damaged goods and store supplies using appropriate tools. Candidates must possess the following skills: Ability to read and write English, interact with general public and co-workers. Ability to read and comprehend simple instructions, product labels, product pricing codes, shelf tags, short correspondence, and memos. Ability to write simple correspondence. Ability to effectively present information in one-on-one and small group situations to customers, clients, and other employees of the organization. Ability to apply common sense understanding to carry out detailed but uninvolved written or oral instructions. The employee must regularly lift and/or move up to 25 pounds, frequently lift and/or move up to 45 pounds, and occasionally lift and/or move up to 60 pounds. Basic PC/Outlook skills preferred. Required Qualifications: Retail Management Certificate is desirable. Our company provides equal employment opportunities (EEO) to all employees and applicants for employment without regard to race, color, religion, sex, national origin, age, disability or genetics.\"\n",
    "result = predict(paragraph, loaded_model, tokenizer, label_mapping)\n",
    "end = time()\n",
    "print(end-start)\n",
    "print(result)\n",
    "\n"
   ]
  },
  {
   "cell_type": "code",
   "execution_count": null,
   "metadata": {},
   "outputs": [],
   "source": []
  }
 ],
 "metadata": {
  "kernelspec": {
   "display_name": "Python 3",
   "language": "python",
   "name": "python3"
  },
  "language_info": {
   "codemirror_mode": {
    "name": "ipython",
    "version": 3
   },
   "file_extension": ".py",
   "mimetype": "text/x-python",
   "name": "python",
   "nbconvert_exporter": "python",
   "pygments_lexer": "ipython3",
   "version": "3.10.9"
  }
 },
 "nbformat": 4,
 "nbformat_minor": 2
}
